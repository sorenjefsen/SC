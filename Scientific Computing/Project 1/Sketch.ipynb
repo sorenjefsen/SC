{
 "cells": [
  {
   "cell_type": "code",
   "execution_count": null,
   "metadata": {},
   "outputs": [],
   "source": [
    "##### Previous LU factorization code. \n",
    "\n",
    "# We create the factorization function\n",
    "def LU_factorization(matrix, pivot = False):\n",
    "    U = np.matrix.copy(matrix)\n",
    "    n = len(U)   \n",
    "    L = np.eye(n)                                                        #Some identity matrix we need to transform\n",
    "\n",
    "    #Pivot that exchanges rows if the diagonal element is zero\n",
    "    if pivot:\n",
    "        for i in range(n):\n",
    "            if U[i, i] == 0:\n",
    "                for j in range(i+1, n):\n",
    "                    if U[i+1, j] != 0:\n",
    "                        row_1 = np.copy(U[i])\n",
    "                        row_2 = np.copy(U[j])\n",
    "                        U[i] = row_2\n",
    "                        U[j] = row_1\n",
    "                        break\n",
    "\n",
    "    for x in range(n-1):\n",
    "        for i in range(x+1, n):\n",
    "            L[i, x] = U[i, x]/U[x, x]\n",
    "            U[i] = U[i] - U[i, x]/U[x, x]*U[x]\n",
    "    return L, U\n",
    "\n",
    "#And test that it works:\n",
    "M = SC.random_matrix(N = 3, low = 0, high = 9)\n",
    "M = np.array([[1, 1, 3], [3, 8, 2], [11.5, 5, 9]])\n",
    "L, U = LU_factorization(M)\n",
    "print(\"Testing LU factorization:\")\n",
    "print(\"Lower and upper matrices: \\n\" , L, \"\\n \\n\" , U, \"\\n\")\n",
    "print(\"Product of the two: \\n\", np.matmul(L, U), \"\\n\")\n",
    "print(\"original matrix: \\n\" + str(M) + \"\\n\")\n",
    "if np.allclose(np.matmul(L, U), M): print(\"The function works\")"
   ]
  }
 ],
 "metadata": {
  "language_info": {
   "name": "python"
  }
 },
 "nbformat": 4,
 "nbformat_minor": 2
}
