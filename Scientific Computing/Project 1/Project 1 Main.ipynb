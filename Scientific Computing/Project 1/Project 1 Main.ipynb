{
 "cells": [
  {
   "cell_type": "code",
   "execution_count": 230,
   "metadata": {},
   "outputs": [],
   "source": [
    "#Lets get the matrices and vectors\n",
    "from watermatrices import Amat as A\n",
    "from watermatrices import Bmat as B\n",
    "from watermatrices import yvec as y\n",
    "import numpy as np\n",
    "import os\n",
    "import importlib\n",
    "\n",
    "#Get some functions from external file\n",
    "cwd = os.getcwd()\n",
    "os.chdir(r\"C:\\Users\\sjefs\\Desktop\\Scientific Computing\\Functions\")\n",
    "importlib.reload(SC_functions)\n",
    "import SC_functions as SC\n",
    "os.chdir(cwd)"
   ]
  },
  {
   "cell_type": "markdown",
   "metadata": {},
   "source": [
    "# Questions\n",
    "What do we do with propogating significant digits ? "
   ]
  },
  {
   "cell_type": "markdown",
   "metadata": {},
   "source": [
    "# Question a)\n",
    "## (1) \n",
    "We start by creating the infinity norm function"
   ]
  },
  {
   "cell_type": "code",
   "execution_count": 89,
   "metadata": {},
   "outputs": [],
   "source": [
    "\n",
    "def infinity_norm(M):\n",
    "    \"\"\"\n",
    "    Function for calculating an infinity norm\n",
    "    _____________________________\n",
    "    parameters:\n",
    "    matrix : ndarray\n",
    "        Some matrix of arbitrary dimensions\n",
    "\n",
    "    return:\n",
    "    infinity norm : float\n",
    "        Value of the infinity norm\n",
    "    \"\"\"\n",
    "    # We create a matrix with only the absolute values. Then we sum each of the rows, and find which row has the largest sum\n",
    "    return max(np.sum(abs(M), axis = 1))\n",
    "\n",
    "def infinity_bound(M):\n",
    "    \"\"\"\n",
    "    Function for calculating an infinity bound\n",
    "    _____________________________\n",
    "    parameters:\n",
    "    matrix : ndarray\n",
    "        Some matrix of arbitrary dimensions\n",
    "\n",
    "    return:\n",
    "    infinity bound : float\n",
    "        Value of the infinity bound\n",
    "    \"\"\"\n",
    "    return infinity_norm(M) * infinity_norm(np.linalg.inv(M))\n"
   ]
  },
  {
   "cell_type": "markdown",
   "metadata": {},
   "source": [
    "## (2)\n",
    "First we make the E and S matrices. Then we calculate the matrixes that combine E and S with omega. Then we use our previously defined functions"
   ]
  },
  {
   "cell_type": "code",
   "execution_count": 83,
   "metadata": {},
   "outputs": [
    {
     "name": "stdout",
     "output_type": "stream",
     "text": [
      "[np.float64(327.81670424209915), np.float64(152679.2687523386), np.float64(227.19443667104446)]\n"
     ]
    }
   ],
   "source": [
    "#Create the matrix E\n",
    "E = np.block([[A, B], [B, A]])\n",
    "\n",
    "#Create the matrix S\n",
    "S = np.zeros((14,14))\n",
    "S[0:7, 0:7] = np.eye(7)\n",
    "S[7:14, 7:14] = -np.eye(7)\n",
    "\n",
    "#Define omega values\n",
    "omega = np.array([0.8, 1.146, 1.400])\n",
    "\n",
    "#Make the matrixes\n",
    "test_matrixes = [E - x*S for x in omega]\n",
    "\n",
    "#Calculate the bound\n",
    "condition_numbers = [infinity_bound(matrix) for matrix in test_matrixes]\n",
    "print(condition_numbers)"
   ]
  },
  {
   "cell_type": "markdown",
   "metadata": {},
   "source": [
    "# Question (B)\n",
    "## (1)"
   ]
  },
  {
   "cell_type": "code",
   "execution_count": 88,
   "metadata": {},
   "outputs": [
    {
     "name": "stdout",
     "output_type": "stream",
     "text": [
      "[np.float64(0.005220745069573262), np.float64(2.4050352674535698), np.float64(0.0035504027789308675)]\n"
     ]
    }
   ],
   "source": [
    "# We already have the infinity bound of E-omega*S. So we just need to calculate the fraction:\n",
    "delta_omega = 1/2*10**(-3)\n",
    "\n",
    "def relative_forward_bound(E, S, omega):\n",
    "    return infinity_bound(E - omega*S) * infinity_norm(delta_omega*S)/infinity_norm(E-omega*S)\n",
    "\n",
    "result = [relative_forward_bound(E, S, x) for x in omega]\n",
    "print(result)\n",
    "\n"
   ]
  },
  {
   "cell_type": "markdown",
   "metadata": {},
   "source": [
    "# Question (C)\n",
    "## (1)  \n",
    "See function in SC_functions"
   ]
  },
  {
   "cell_type": "code",
   "execution_count": 170,
   "metadata": {},
   "outputs": [
    {
     "name": "stdout",
     "output_type": "stream",
     "text": [
      "[[4. 4. 9. 3.]\n",
      " [5. 6. 8. 0.]\n",
      " [5. 6. 2. 7.]\n",
      " [4. 8. 4. 8.]]\n",
      "[[4. 4. 9. 3.]\n",
      " [5. 6. 8. 0.]\n",
      " [5. 6. 2. 7.]\n",
      " [4. 8. 4. 8.]]\n"
     ]
    }
   ],
   "source": [
    "#np.random.seed(42)\n",
    "M = np.random.randint(0, 10, (4,4)).astype(float)\n",
    "test = np.matrix.copy(M)\n",
    "print(M)\n"
   ]
  },
  {
   "cell_type": "markdown",
   "metadata": {},
   "source": [
    "## (2)\n"
   ]
  },
  {
   "cell_type": "code",
   "execution_count": 274,
   "metadata": {},
   "outputs": [
    {
     "name": "stdout",
     "output_type": "stream",
     "text": [
      "[ 0.14285714  1.71428571 -1.42857143  2.        ]\n"
     ]
    }
   ],
   "source": [
    "def forward_substitute(L, b):\n",
    "    n = len(b)\n",
    "    x = np.zeros(n)\n",
    "    for j in range(n):\n",
    "        if L[j,j] == 0:\n",
    "            raise ValueError(\"The diagonal element is zero\")\n",
    "        x[j] = b[j]/L[j,j]\n",
    "        for i in range(j+1, n):\n",
    "            b[i] = b[i]-L[i,j]*x[j]\n",
    "    return x\n",
    "\n",
    "\n",
    "M = np.random.randint(1, 10, (4,4)).astype(float)\n",
    "test = np.matrix.copy(M)\n",
    "b = [1,2,3,4]\n",
    "result = forward_substitute(M, b)\n",
    "print(result)"
   ]
  }
 ],
 "metadata": {
  "kernelspec": {
   "display_name": "Python 3",
   "language": "python",
   "name": "python3"
  },
  "language_info": {
   "codemirror_mode": {
    "name": "ipython",
    "version": 3
   },
   "file_extension": ".py",
   "mimetype": "text/x-python",
   "name": "python",
   "nbconvert_exporter": "python",
   "pygments_lexer": "ipython3",
   "version": "3.12.5"
  }
 },
 "nbformat": 4,
 "nbformat_minor": 2
}
